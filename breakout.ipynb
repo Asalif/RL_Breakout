{
 "cells": [
  {
   "cell_type": "markdown",
   "metadata": {},
   "source": [
    "If you are using gym then you need to run pip install \"gym[atari, accept-rom-license]\" and if you are using gymnasium you need to run pip install \"gymnasium[atari, accept-rom-license]\"."
   ]
  },
  {
   "cell_type": "code",
   "execution_count": 27,
   "metadata": {},
   "outputs": [
    {
     "name": "stderr",
     "output_type": "stream",
     "text": [
      "/Users/kab/pythonproject-test/env/lib/python3.9/site-packages/gymnasium/envs/registration.py:513: DeprecationWarning: \u001b[33mWARN: The environment Breakout-v0 is out of date. You should consider upgrading to version `v4`.\u001b[0m\n",
      "  logger.deprecation(\n"
     ]
    },
    {
     "name": "stdout",
     "output_type": "stream",
     "text": [
      "looping 1\n"
     ]
    },
    {
     "ename": "KeyboardInterrupt",
     "evalue": "",
     "output_type": "error",
     "traceback": [
      "\u001b[0;31m---------------------------------------------------------------------------\u001b[0m",
      "\u001b[0;31mKeyboardInterrupt\u001b[0m                         Traceback (most recent call last)",
      "Cell \u001b[0;32mIn[27], line 45\u001b[0m\n\u001b[1;32m     42\u001b[0m \u001b[38;5;66;03m# next_state = np.dot(next_state[..., :3], weights).astype(int)\u001b[39;00m\n\u001b[1;32m     44\u001b[0m old_value \u001b[38;5;241m=\u001b[39m q_table[state, action]\n\u001b[0;32m---> 45\u001b[0m next_max \u001b[38;5;241m=\u001b[39m np\u001b[38;5;241m.\u001b[39mmax(\u001b[43mq_table\u001b[49m\u001b[43m[\u001b[49m\u001b[43mnext_state\u001b[49m\u001b[43m]\u001b[49m)\n\u001b[1;32m     47\u001b[0m \u001b[38;5;66;03m# update the q-table\u001b[39;00m\n\u001b[1;32m     49\u001b[0m new_value \u001b[38;5;241m=\u001b[39m (\u001b[38;5;241m1\u001b[39m \u001b[38;5;241m-\u001b[39m alpha) \u001b[38;5;241m*\u001b[39m old_value \u001b[38;5;241m+\u001b[39m alpha \u001b[38;5;241m*\u001b[39m(reward \u001b[38;5;241m+\u001b[39mgamma \u001b[38;5;241m*\u001b[39m next_max)\n",
      "\u001b[0;31mKeyboardInterrupt\u001b[0m: "
     ]
    }
   ],
   "source": [
    "import gymnasium as gym\n",
    "import numpy as np\n",
    "import random\n",
    "from IPython.display import clear_output\n",
    "\n",
    "\n",
    "env = gym.make(\"ALE/Breakout-v5\", render_mode=\"human\")\n",
    "observation, info = env.reset(seed=42)\n",
    "observation = np.dot(observation[..., :3], weights)\n",
    "# intialize the q-table\n",
    "q_table = np.zeros([210, 160,3,4])\n",
    "\n",
    "# set hyperparameters\n",
    "alpha = 0.1 # learning rate\n",
    "gamma = 0.6 # discount factor\n",
    "epsilon = 0.1 # exploration rate\n",
    "\n",
    "# for plotting metrics\n",
    "all_epochs = []\n",
    "all_penalties =[]\n",
    "\n",
    "for i in range(1, 202):\n",
    "    print(\"looping\", i)  \n",
    "    state,info = env.reset()\n",
    "    # print(state.shape)\n",
    "    # state = np.dot(state[..., :3], weights).astype(int)\n",
    "    # print(state.shape)\n",
    "    epochs, penalties, reward, = 0, 0, 0\n",
    "    done = False\n",
    "    \n",
    "    while not done:\n",
    "        if random.uniform(0, 1) < epsilon:\n",
    "            action = env.action_space.sample() # explore action space\n",
    "        else:\n",
    "            # find the actions with the max value\n",
    "            # action = np.random.choice(np.flatnonzero(q_table[state] == q_table[state].max()))  # Exploit learned values\n",
    "            # print(q_table[state])\n",
    "            action = np.argmax(q_table[state]) # exploit learned values\n",
    "            \n",
    "        next_state, reward, terminated, truncated, info = env.step(action)\n",
    "        done = terminated or truncated\n",
    "        # next_state = np.dot(next_state[..., :3], weights).astype(int)\n",
    "\n",
    "        old_value = q_table[state, action]\n",
    "        next_max = np.max(q_table[next_state])\n",
    "\n",
    "        # update the q-table\n",
    "\n",
    "        new_value = (1 - alpha) * old_value + alpha *(reward +gamma * next_max)\n",
    "        q_table[state, action] = new_value\n",
    "\n",
    "        if reward == -10:\n",
    "            penalties += 1\n",
    "            \n",
    "        state = next_state\n",
    "        epochs += 1\n",
    "        \n",
    "        if i % 100 == 0:\n",
    "            clear_output(wait=True)\n",
    "            print(f\"Episode:{i}\")\n",
    "            \n",
    "print(\"Traing finshed.\\n\")\n",
    "\n",
    "\n",
    "\n",
    "# TO START PLAY\n",
    "\n",
    "\n",
    "# Timed Games:\n",
    "\n",
    "\n",
    "# reward\n",
    "# Brick Wall:\n",
    "\n",
    "\n",
    "# directoins \n",
    "# Paddle:\n",
    "\n",
    "\n",
    "\n",
    "\n"
   ]
  },
  {
   "cell_type": "code",
   "execution_count": 28,
   "metadata": {},
   "outputs": [],
   "source": [
    "env = gym.make(\"ALE/Breakout-v5\", render_mode=\"human\")\n",
    "observation, info = env.reset()\n",
    "num_actions = env.action_space.n\n",
    "observation_shape = env.observation_space.shape\n",
    "q_table_shape = observation_shape + (num_actions,)\n",
    "q_table = np.zeros(q_table_shape)"
   ]
  },
  {
   "cell_type": "code",
   "execution_count": 47,
   "metadata": {},
   "outputs": [],
   "source": [
    "s = np.random.randint(0, 210, size=(210, 160, 3))\n"
   ]
  },
  {
   "cell_type": "code",
   "execution_count": 6,
   "metadata": {},
   "outputs": [],
   "source": [
    "weights = np.array([0.299, 0.587, 0.114])\n",
    "gray_image =gray_image = np.dot(image[..., :3], weights)"
   ]
  },
  {
   "cell_type": "code",
   "execution_count": null,
   "metadata": {},
   "outputs": [],
   "source": []
  }
 ],
 "metadata": {
  "kernelspec": {
   "display_name": "Python 3",
   "language": "python",
   "name": "python3"
  },
  "language_info": {
   "codemirror_mode": {
    "name": "ipython",
    "version": 3
   },
   "file_extension": ".py",
   "mimetype": "text/x-python",
   "name": "python",
   "nbconvert_exporter": "python",
   "pygments_lexer": "ipython3",
   "version": "3.9.15"
  }
 },
 "nbformat": 4,
 "nbformat_minor": 2
}
